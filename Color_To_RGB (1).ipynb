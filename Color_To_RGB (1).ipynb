{
 "cells": [
  {
   "cell_type": "code",
   "execution_count": 40,
   "id": "6af33f47-cb5b-4f8c-9ffd-10eed86b3bd5",
   "metadata": {},
   "outputs": [
    {
     "name": "stdout",
     "output_type": "stream",
     "text": [
      "\n",
      "\t\tColor Image to Black and White Converter\n",
      "\n"
     ]
    },
    {
     "name": "stdin",
     "output_type": "stream",
     "text": [
      "Enter Image Name or Path:  flower\n"
     ]
    },
    {
     "name": "stdout",
     "output_type": "stream",
     "text": [
      "Error: Image not found. Please enter the correct path.\n"
     ]
    },
    {
     "name": "stdin",
     "output_type": "stream",
     "text": [
      "Enter Image Name or Path:  flower.png\n"
     ]
    },
    {
     "name": "stdout",
     "output_type": "stream",
     "text": [
      "Image loaded successfully!\n",
      "Image converted to grayscale!\n",
      "For showing image, type: show\n",
      "For saving image, type: save\n"
     ]
    },
    {
     "name": "stdin",
     "output_type": "stream",
     "text": [
      "Enter your choice (show/save):  show\n",
      "Enter Image Title:  flower\n"
     ]
    },
    {
     "name": "stdout",
     "output_type": "stream",
     "text": [
      "Press any key to close the image window.\n"
     ]
    },
    {
     "name": "stdin",
     "output_type": "stream",
     "text": [
      "Do you want to save this image? Press (y/n):  y\n",
      "Enter file name with extension (.jpg, .png) to save image:  rose_data.png\n"
     ]
    },
    {
     "name": "stdout",
     "output_type": "stream",
     "text": [
      "rose_data.png has been saved successfully!\n"
     ]
    },
    {
     "name": "stdin",
     "output_type": "stream",
     "text": [
      "Do you want to process another image? (y/n):  n\n"
     ]
    },
    {
     "name": "stdout",
     "output_type": "stream",
     "text": [
      "Closing program...\n"
     ]
    }
   ],
   "source": [
    "import cv2\n",
    "\n",
    "image = None\n",
    "gray = None\n",
    "\n",
    "def load():\n",
    "    \"\"\"Load image from user input path.\"\"\"\n",
    "    global image\n",
    "    while True:\n",
    "        image_name = input(\"Enter Image Name or Path: \")\n",
    "        image = cv2.imread(image_name)\n",
    "        if image is not None:\n",
    "            print(\"Image loaded successfully!\")\n",
    "            break\n",
    "        else:\n",
    "            print(\"Error: Image not found. Please enter the correct path.\")\n",
    "\n",
    "def GrayScale():\n",
    "    \"\"\"Convert the loaded image to grayscale.\"\"\"\n",
    "    global gray\n",
    "    gray = cv2.cvtColor(image, cv2.COLOR_BGR2GRAY)\n",
    "    print(\"Image converted to grayscale!\")\n",
    "\n",
    "def display():\n",
    "    \"\"\"Display the grayscale image.\"\"\"\n",
    "    title = input(\"Enter Image Title: \")\n",
    "    cv2.imshow(title, gray)\n",
    "    print(\"Press any key to close the image window.\")\n",
    "    cv2.waitKey(0)\n",
    "    cv2.destroyAllWindows()\n",
    "\n",
    "def save_image():\n",
    "    \"\"\"Save the grayscale image with user provided name.\"\"\"\n",
    "    save_name = input(\"Enter file name with extension (.jpg, .png) to save image: \")\n",
    "    result = cv2.imwrite(save_name, gray)\n",
    "    if result:\n",
    "        print(f\"{save_name} has been saved successfully!\")\n",
    "    else:\n",
    "        print(\"Error saving the image.\")\n",
    "\n",
    "def instruction():\n",
    "    \"\"\"Display instructions for the user.\"\"\"\n",
    "    print(\"For showing image, type: show\")\n",
    "    print(\"For saving image, type: save\")\n",
    "\n",
    "def main():\n",
    "    \"\"\"Main loop for image processing.\"\"\"\n",
    "    print(\"\\n\\t\\tColor Image to Black and White Converter\\n\")\n",
    "    while True:\n",
    "        load()\n",
    "        GrayScale()\n",
    "        instruction()\n",
    "\n",
    "        choice = input(\"Enter your choice (show/save): \").strip().lower()\n",
    "        \n",
    "        if choice == 'show':\n",
    "            display()\n",
    "            save_choice = input(\"Do you want to save this image? Press (y/n): \").strip().lower()\n",
    "            if save_choice == 'y':\n",
    "                save_image()\n",
    "        elif choice == 'save':\n",
    "            save_image()\n",
    "        else:\n",
    "            print(\"Invalid choice. Please choose 'show' or 'save'.\")\n",
    "\n",
    "        cont = input(\"Do you want to process another image? (y/n): \").strip().lower()\n",
    "        if cont != 'y':\n",
    "            print(\"Closing program...\")\n",
    "            break\n",
    "\n",
    "if __name__ == \"__main__\":\n",
    "    main()\n"
   ]
  },
  {
   "cell_type": "code",
   "execution_count": null,
   "id": "b3da8780-0cb0-4b33-a52d-353cb5cf5522",
   "metadata": {},
   "outputs": [],
   "source": []
  }
 ],
 "metadata": {
  "kernelspec": {
   "display_name": "Python 3 (ipykernel)",
   "language": "python",
   "name": "python3"
  },
  "language_info": {
   "codemirror_mode": {
    "name": "ipython",
    "version": 3
   },
   "file_extension": ".py",
   "mimetype": "text/x-python",
   "name": "python",
   "nbconvert_exporter": "python",
   "pygments_lexer": "ipython3",
   "version": "3.13.7"
  }
 },
 "nbformat": 4,
 "nbformat_minor": 5
}
